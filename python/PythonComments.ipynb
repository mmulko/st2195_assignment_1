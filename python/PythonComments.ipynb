{
 "cells": [
  {
   "cell_type": "markdown",
   "id": "60f5856a",
   "metadata": {},
   "source": [
    "## One to Ten Printer R Comments\n",
    "\n",
    "The task was to write Python script that prints all integers between 1 and 10 *(including 1 and 10)* to screen. After some research of this programming language, I came up with **\"for\" cycle** which will print required integers. Here is my code:"
   ]
  },
  {
   "cell_type": "code",
   "execution_count": 1,
   "id": "6f4baff2",
   "metadata": {},
   "outputs": [
    {
     "name": "stdout",
     "output_type": "stream",
     "text": [
      "1\n",
      "2\n",
      "3\n",
      "4\n",
      "5\n",
      "6\n",
      "7\n",
      "8\n",
      "9\n",
      "10\n"
     ]
    }
   ],
   "source": [
    "for n in range(1,11):\n",
    "    print(n)"
   ]
  },
  {
   "cell_type": "markdown",
   "id": "5583be41",
   "metadata": {},
   "source": [
    "**NOTE:** The range of needed integers is given with function **\"range(a,b)\"**. Also, we can see that end of range *(11)* is **NOT** included when printing integers, when in R it is. That is why in Python range I had to write 11 instead of 10 at the end."
   ]
  }
 ],
 "metadata": {
  "kernelspec": {
   "display_name": "Python 3 (ipykernel)",
   "language": "python",
   "name": "python3"
  },
  "language_info": {
   "codemirror_mode": {
    "name": "ipython",
    "version": 3
   },
   "file_extension": ".py",
   "mimetype": "text/x-python",
   "name": "python",
   "nbconvert_exporter": "python",
   "pygments_lexer": "ipython3",
   "version": "3.9.13"
  }
 },
 "nbformat": 4,
 "nbformat_minor": 5
}
